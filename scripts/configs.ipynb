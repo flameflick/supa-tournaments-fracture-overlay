{
  "cells": [
    {
      "cell_type": "code",
      "execution_count": 84,
      "metadata": {
        "colab": {
          "base_uri": "https://localhost:8080/"
        },
        "id": "RrA3EUVa-Q9M",
        "outputId": "516553c9-0eab-4701-acd6-207a2f348cbf"
      },
      "outputs": [
        {
          "name": "stdout",
          "output_type": "stream",
          "text": [
            "Drive already mounted at /drive; to attempt to forcibly remount, call drive.mount(\"/drive\", force_remount=True).\n"
          ]
        }
      ],
      "source": [
        "import pandas as pd\n",
        "import re\n",
        "import uuid\n",
        "import json\n",
        "\n",
        "from google.colab import drive\n",
        "drive.mount('/drive')"
      ]
    },
    {
      "cell_type": "code",
      "execution_count": 53,
      "metadata": {
        "id": "fsfAWHPhEkW8"
      },
      "outputs": [],
      "source": [
        "df = pd.read_csv('/SUPA Triple Rumble Season 1 Sign Ups - Team Responses.csv')"
      ]
    },
    {
      "cell_type": "code",
      "execution_count": 72,
      "metadata": {
        "colab": {
          "base_uri": "https://localhost:8080/"
        },
        "id": "jAfQCNgAEleK",
        "outputId": "58967c8b-ae67-468e-8425-957f6921dbf3"
      },
      "outputs": [
        {
          "name": "stdout",
          "output_type": "stream",
          "text": [
            "0    NaN\n",
            "Name: What is the name of your reserve?, dtype: object\n"
          ]
        }
      ],
      "source": [
        "print(df.head(1).iloc[:, 27])"
      ]
    },
    {
      "cell_type": "code",
      "execution_count": 74,
      "metadata": {
        "id": "JydJakX_FRDR"
      },
      "outputs": [],
      "source": [
        "MEMBER_INDEXES = [5, 12, 19, 27]\n",
        "\n",
        "NICKNAME_OFFSET = 0\n",
        "SS_LINK_OFFSET = 2\n",
        "TWITCH_LINK_OFFSET = 3"
      ]
    },
    {
      "cell_type": "code",
      "execution_count": 67,
      "metadata": {
        "colab": {
          "base_uri": "https://localhost:8080/"
        },
        "id": "Zwejmdj4_PXn",
        "outputId": "d87d366e-661f-40b5-fc37-0657cff3b108"
      },
      "outputs": [
        {
          "name": "stdout",
          "output_type": "stream",
          "text": [
            "76561198799070584\n"
          ]
        }
      ],
      "source": [
        "SS_REGEX = r'https://scoresaber\\.com/u/(\\d+)'\n",
        "\n",
        "print(re.search(SS_REGEX, 'https://scoresaber.com/u/76561198799070584').group(1))"
      ]
    },
    {
      "cell_type": "code",
      "execution_count": 86,
      "metadata": {
        "colab": {
          "base_uri": "https://localhost:8080/"
        },
        "id": "grKvFUaI8xaI",
        "outputId": "0710a930-1b75-4e4b-d472-e877e4cdc54d"
      },
      "outputs": [
        {
          "name": "stdout",
          "output_type": "stream",
          "text": [
            "[{\"members\": [{\"nickname\": \"lucazzyt\", \"platformId\": \"76561198799070584\", \"twitchLink\": \"https://www.twitch.tv/lucazzyt\"}, {\"nickname\": \"some1krille\", \"platformId\": \"76561199013335647\", \"twitchLink\": \"twitch.tv/some1krille\"}, {\"nickname\": \"Joah230\", \"platformId\": \"76561198284425720\", \"twitchLink\": \"https://www.twitch.tv/joah230\"}], \"id\": \"2b4b5085-e557-4226-b84b-02da7018194c\", \"name\": \"3 big baguettes\", \"logoLink\": \"https://imgur.com/a/8jcUJgb\"}, {\"members\": [{\"nickname\": \"quietkid\", \"platformId\": \"76561198425648946\", \"twitchLink\": \"https://www.twitch.tv/quiet_kid_15\"}, {\"nickname\": \"Jmac\", \"platformId\": \"76561198199893013\", \"twitchLink\": \"https://www.twitch.tv/jmac875\"}, {\"nickname\": \"Ayyserr\", \"platformId\": \"76561199071469065\", \"twitchLink\": \"https://www.twitch.tv/ayyserr24\"}, {\"nickname\": \"BlAck_vOid\", \"platformId\": \"76561199237802861\", \"twitchLink\": \"https://www.twitch.tv/black_void1001\"}], \"id\": \"1d545a9b-bcd0-48d0-8bff-98b5ecf252a7\", \"name\": \"Hash Slinging Slashers\", \"logoLink\": \"https://imgur.com/a/VbbYTUh\"}, {\"members\": [{\"nickname\": \"Datsurb\", \"platformId\": \"76561198088053842\", \"twitchLink\": \"https://www.twitch.tv/datsurb1\"}, {\"nickname\": \"flor\", \"platformId\": \"76561198072602937\", \"twitchLink\": \"https://www.twitch.tv/flor_salvas\"}, {\"nickname\": \"Sensei WU\", \"platformId\": \"76561198400393482\", \"twitchLink\": \"https://www.twitch.tv/tmbs_senseiwu\"}], \"id\": \"faa298be-87f4-46a3-ad36-c9ad8ca78d87\", \"name\": \"Chromosome Collectors\", \"logoLink\": \"https://imgur.com/a/sptvnEB\"}, {\"members\": [{\"nickname\": \"EJ\", \"platformId\": \"76561198321316302\", \"twitchLink\": \"https://www.twitch.tv/ej_ca\"}, {\"nickname\": \"Kel\", \"platformId\": \"76561198333403325\", \"twitchLink\": \"https://www.twitch.tv/kelbeatssaber\"}, {\"nickname\": \"OofsAndYippies\", \"platformId\": \"76561198128405856\", \"twitchLink\": \"https://www.twitch.tv/oofsandyippies\"}], \"id\": \"d5994714-b71b-41d8-8228-eb7faacd51cd\", \"name\": \"Team Sploob\", \"logoLink\": \"https://imgur.com/a/65lcpV3\"}, {\"members\": [{\"nickname\": \"Bytesy\", \"platformId\": \"2169974796454690\", \"twitchLink\": \"https://www.twitch.tv/bytesy_\"}, {\"nickname\": \"JustCallMeJack\", \"platformId\": \"76561197974131273\", \"twitchLink\": \"https://www.twitch.tv/justcallmejack\"}, {\"nickname\": \"Fainted_soul\", \"platformId\": \"76561199017001958\", \"twitchLink\": \"https://www.twitch.tv/fainted_soul\"}, {\"nickname\": \"WDG_IsraGRFK\", \"platformId\": \"76561198088965557\", \"twitchLink\": \"https://www.twitch.tv/wdg_isragrfk\"}], \"id\": \"b7b38eba-b1f1-470b-89e3-84506e991baa\", \"name\": \"joe biden's last 3 brain cells\", \"logoLink\": \"https://imgur.com/a/vd8XAfe\"}, {\"members\": [{\"nickname\": \"noam15A\", \"platformId\": \"76561198329760372\", \"twitchLink\": \"https://twitch.tv/noam15A\"}, {\"nickname\": \"AJ\", \"platformId\": \"76561198835431545\", \"twitchLink\": \"https://twitch.tv/ajmonkey21_\"}, {\"nickname\": \"Sona\", \"platformId\": \"76561199093169351\", \"twitchLink\": \"https://twitch.tv/v_sona\"}, {\"nickname\": \"Tomer\", \"platformId\": \"4604510306289186\", \"twitchLink\": \"https://www.twitch.tv/tomer_miaw\"}], \"id\": \"689f5098-f40f-4ed0-a4d1-79a7f9251e12\", \"name\": \"Sonaja15A\", \"logoLink\": \"https://i.imgur.com/sB7hy6e.png\"}, {\"members\": [{\"nickname\": \"Mr_bjo\", \"platformId\": \"76561198305748823\", \"twitchLink\": \"https://www.twitch.tv/mr_bjo\"}, {\"nickname\": \"Semdol\", \"platformId\": \"76561198334343711\", \"twitchLink\": \"https://www.twitch.tv/semdol1\"}, {\"nickname\": \"Tibytes\", \"platformId\": \"76561198802040781\", \"twitchLink\": \"https://www.twitch.tv/tibyteslive\"}], \"id\": \"42477c0c-f96b-4860-81c2-1a168824eebc\", \"name\": \"Yaman 11.12.2022\", \"logoLink\": \"https://imgur.com/5ln7g5Y\"}, {\"members\": [{\"nickname\": \"charlie1epicdude\", \"platformId\": \"76561199080950125\", \"twitchLink\": \"https://www.twitch.tv/blobby56789\"}, {\"nickname\": \"Gamble\", \"platformId\": \"76561198830724581\", \"twitchLink\": \"https://www.twitch.tv/gamble9000\"}, {\"nickname\": \"ChickenMWE1\", \"platformId\": \"76561199141443881\", \"twitchLink\": \"https://www.twitch.tv/chickenpoooog\"}], \"id\": \"df2613d5-580f-456e-976c-75ab28493f28\", \"name\": \"Turduckens\", \"logoLink\": \"https://imgur.com/a/XRqWS2d\"}, {\"members\": [{\"nickname\": \"asmuund\", \"platformId\": \"76561198306464226\", \"twitchLink\": \"https://www.twitch.tv/asmuund\"}, {\"nickname\": \"Latest\", \"platformId\": \"76561198842731461\", \"twitchLink\": \"https://www.twitch.tv/lateest\"}, {\"nickname\": \"Rac\", \"platformId\": \"76561198318835649\", \"twitchLink\": \"https://www.twitch.tv/raacc_\"}, {\"nickname\": \"Slamsyk\", \"platformId\": \"76561198114515066\", \"twitchLink\": \"https://www.twitch.tv/slamsyk\"}], \"id\": \"bda8ad7f-35d1-42c8-ba06-1d046fe9ab9b\", \"name\": \"McDickheads\", \"logoLink\": \"https://i.imgur.com/wcUzpiZ.png\"}, {\"members\": [{\"nickname\": \"Stud3nt_4thlete\", \"platformId\": \"76561198965353139\", \"twitchLink\": \"https://twitch.tv/Stud3nt_4thlete\"}, {\"nickname\": \"cfelton02\", \"platformId\": \"4765259963499245\", \"twitchLink\": \"https://twitch.tv/cfelton02\"}, {\"nickname\": \"Astrais\", \"platformId\": \"2092178757563532\", \"twitchLink\": \"https://www.twitch.tv/astrais_\"}, {\"nickname\": \"Penguii\", \"platformId\": \"2715299435227069\", \"twitchLink\": \"https://www.twitch.tv/penguiivr\"}], \"id\": \"38840d12-ca7f-4ff1-9f78-5d5396c6f9f7\", \"name\": \"CVRE Podium + penguii\", \"logoLink\": \"https://imgur.com/CmBQ7Qe\"}, {\"members\": [{\"nickname\": \"NightHawk\", \"platformId\": \"76561198086326146\", \"twitchLink\": \"https://www.twitch.tv/thanighthawk\"}, {\"nickname\": \"CaraX\", \"platformId\": \"76561198118927554\", \"twitchLink\": \"https://www.twitch.tv/carax_\"}, {\"nickname\": \"Pan\", \"platformId\": \"76561198083631499\", \"twitchLink\": \"https://www.twitch.tv/mynamepan\"}], \"id\": \"1028c633-c227-4cc3-a13e-4e19256b9c91\", \"name\": \"Brain Damage\", \"logoLink\": \"https://i.imgur.com/X29Xuha.png\"}, {\"members\": [{\"nickname\": \"Kryptec\", \"platformId\": \"76561198200744503\", \"twitchLink\": \"https://www.twitch.tv/kryptecc\"}, {\"nickname\": \"BreadSkate\", \"platformId\": \"76561198178298138\", \"twitchLink\": \"https://twitch.tv/breadskatevr\"}, {\"nickname\": \"Se7en\", \"platformId\": \"76561199068714821\", \"twitchLink\": \"https://twitch.tv/se7en0_\"}, {\"nickname\": \"imkirbie\", \"platformId\": \"76561199077125210\", \"twitchLink\": \"https://www.twitch.tv/imkirbie_\"}], \"id\": \"1bfc9712-5923-4fce-aa64-71b04d907950\", \"name\": \"Oculus Support \", \"logoLink\": \"https://imgur.com/a/PfQj4rV\"}, {\"members\": [{\"nickname\": \"Tseska\", \"platformId\": \"76561198362923485\", \"twitchLink\": \"https://www.twitch.tv/tseska_\"}, {\"nickname\": \"Pesukone22\", \"platformId\": \"76561198260683373\", \"twitchLink\": \"https://www.twitch.tv/pesukone22\"}, {\"nickname\": \"Brubrum1muri\", \"platformId\": \"2218632398238707\", \"twitchLink\": \"https://www.twitch.tv/brubrum1muri\"}], \"id\": \"2f563818-de2c-43ad-9e33-3318b4831dfb\", \"name\": \"Tseska's Household Appliances\", \"logoLink\": \"https://imgur.com/a/ifUnDaQ\"}, {\"members\": [{\"nickname\": \"General Dumbass\", \"platformId\": \"76561198148209170\", \"twitchLink\": \"https://www.twitch.tv/generaldum\"}, {\"nickname\": \"Nab\", \"platformId\": \"76561198034726398\", \"twitchLink\": \"https://www.twitch.tv/fookingnub\"}, {\"nickname\": \"Makko\", \"platformId\": \"76561198438681935\", \"twitchLink\": \"https://www.twitch.tv/makkoo_\"}], \"id\": \"2f19f2ba-d5f5-4857-9103-faf2284237b6\", \"name\": \"Banaanikioskin Pojat\", \"logoLink\": \"https://imgur.com/a/PflkGxz\"}, {\"members\": [{\"nickname\": \"Nolanimations\", \"platformId\": \"76561198082797048\", \"twitchLink\": \"https://www.twitch.tv/nolanimations\"}, {\"nickname\": \"Sheep\", \"platformId\": \"3067073569973129\", \"twitchLink\": \"https://www.twitch.tv/thejumpingsheep\"}, {\"nickname\": \"muffn\", \"platformId\": \"76561198095106486\", \"twitchLink\": \"https://www.twitch.tv/muffnnt\"}, {\"nickname\": \"miitchel\", \"platformId\": \"76561198301082541\", \"twitchLink\": \"https://www.twitch.tv/miitchel\"}], \"id\": \"c5157c67-9a7c-49c5-9a24-9abbea7cccdd\", \"name\": \"maul naul jaul en muffn\", \"logoLink\": \"https://i.imgur.com/KCtbRlb.jpg\"}, {\"members\": [{\"nickname\": \"Ryan\", \"platformId\": \"76561198117236590\", \"twitchLink\": \"https://twitch.tv/rfcaps\"}, {\"nickname\": \"Matty\", \"platformId\": \"76561198988695829\", \"twitchLink\": \"https://twitch.tv/olbmaphlee1\"}, {\"nickname\": \"Gesca\", \"platformId\": \"76561198249452550\", \"twitchLink\": \"https://twitch.tv/gesca\"}], \"id\": \"704e9927-d01f-49d5-8871-037752fe4272\", \"name\": \"Dance Gayboys Dance\", \"logoLink\": \"https://imgur.com/a/mIjVZcG\"}, {\"members\": [{\"nickname\": \"Kyy/CloverLeaf\", \"platformId\": \"76561199174269459\", \"twitchLink\": \"https://www.twitch.tv/oriixenn\"}, {\"nickname\": \"Deli\", \"platformId\": \"76561198121831459\", \"twitchLink\": \"https://www.twitch.tv/vgn_deli\"}, {\"nickname\": \"Kaoplo\", \"platformId\": \"76561198069899344\", \"twitchLink\": \"https://www.twitch.tv/kaoplo\"}], \"id\": \"b0a761aa-2122-4e86-86a7-a160fe44a28a\", \"name\": \"The Rusty Vanguards\", \"logoLink\": \"https://imgur.com/a/TQkJi5j\"}, {\"members\": [{\"nickname\": \"Bonder\", \"platformId\": \"76561198849389899\", \"twitchLink\": \"https://twitch.tv/bonderlive\"}, {\"nickname\": \"Tanhis\", \"platformId\": \"76561198993934070\", \"twitchLink\": \"https://www.twitch.tv/tanhis\"}, {\"nickname\": \"Olysgba\", \"platformId\": \"76561198288322100\", \"twitchLink\": \"https://www.twitch.tv/olysgba\"}, {\"nickname\": \"Skyline\", \"platformId\": \"76561198078455366\", \"twitchLink\": \"https://www.twitch.tv/joe_nuts12\"}], \"id\": \"5ee85ea3-2b1b-49f0-8320-039bd2acb22b\", \"name\": \"sploutchers\", \"logoLink\": \"https://imgur.com/a/BfTviqP\"}, {\"members\": [{\"nickname\": \"shrado\", \"platformId\": \"76561198143307741\", \"twitchLink\": \"https://www.twitch.tv/shrado\"}, {\"nickname\": \"Floatyoats\", \"platformId\": \"76561198108275916\", \"twitchLink\": \"https://www.twitch.tv/floatyoat\"}, {\"nickname\": \"Anodize\", \"platformId\": \"76561199122659617\", \"twitchLink\": \"https://www.twitch.tv/anodize_\"}], \"id\": \"7f83f966-35e6-489d-8f28-f7b09a01f0c9\", \"name\": \"Court documents reveal Young Thug was in the process of constructing a Dyson Sphere in a distant Galaxy\", \"logoLink\": \"https://imgur.com/b4pEEYm\"}, {\"members\": [{\"nickname\": \"Hammy\", \"platformId\": \"76561198803740722\", \"twitchLink\": \"https://www.twitch.tv/hammyie\"}, {\"nickname\": \"JackJack33\", \"platformId\": \"76561198238346492\", \"twitchLink\": \"https://www.twitch.tv/jackjack_33\"}, {\"nickname\": \"Jade!\", \"platformId\": \"76561199048817315\", \"twitchLink\": \"https://www.twitch.tv/jadenithink07/about\"}], \"id\": \"1110cf1f-1cc5-40d9-ac75-7a0fed911c43\", \"name\": \"Certified Index Gaming\", \"logoLink\": \"https://imgur.com/a/WPK6RGD\"}, {\"members\": [{\"nickname\": \"Klondike\", \"platformId\": \"76561198145728266\", \"twitchLink\": \"https://www.twitch.tv/klondikevr\"}, {\"nickname\": \"Yuki\", \"platformId\": \"76561198243088790\", \"twitchLink\": \"https://www.twitch.tv/yukidesu__\"}, {\"nickname\": \"Mako\", \"platformId\": \"76561198308893404\", \"twitchLink\": \"https://www.twitch.tv/makocho_/about\"}], \"id\": \"7f1dd0f5-e395-42a4-a8af-dc5224c1d493\", \"name\": \"Yukodike\", \"logoLink\": \"https://imgur.com/a/jKbexoA\"}]\n",
            "\n",
            "{\"76561198799070584\": \"https://www.twitch.tv/lucazzyt\", \"76561199013335647\": \"twitch.tv/some1krille\", \"76561198284425720\": \"https://www.twitch.tv/joah230\", \"76561198425648946\": \"https://www.twitch.tv/quiet_kid_15\", \"76561198199893013\": \"https://www.twitch.tv/jmac875\", \"76561199071469065\": \"https://www.twitch.tv/ayyserr24\", \"76561199237802861\": \"https://www.twitch.tv/black_void1001\", \"76561198088053842\": \"https://www.twitch.tv/datsurb1\", \"76561198072602937\": \"https://www.twitch.tv/flor_salvas\", \"76561198400393482\": \"https://www.twitch.tv/tmbs_senseiwu\", \"76561198321316302\": \"https://www.twitch.tv/ej_ca\", \"76561198333403325\": \"https://www.twitch.tv/kelbeatssaber\", \"76561198128405856\": \"https://www.twitch.tv/oofsandyippies\", \"2169974796454690\": \"https://www.twitch.tv/bytesy_\", \"76561197974131273\": \"https://www.twitch.tv/justcallmejack\", \"76561199017001958\": \"https://www.twitch.tv/fainted_soul\", \"76561198088965557\": \"https://www.twitch.tv/wdg_isragrfk\", \"76561198329760372\": \"https://twitch.tv/noam15A\", \"76561198835431545\": \"https://twitch.tv/ajmonkey21_\", \"76561199093169351\": \"https://twitch.tv/v_sona\", \"4604510306289186\": \"https://www.twitch.tv/tomer_miaw\", \"76561198305748823\": \"https://www.twitch.tv/mr_bjo\", \"76561198334343711\": \"https://www.twitch.tv/semdol1\", \"76561198802040781\": \"https://www.twitch.tv/tibyteslive\", \"76561199080950125\": \"https://www.twitch.tv/blobby56789\", \"76561198830724581\": \"https://www.twitch.tv/gamble9000\", \"76561199141443881\": \"https://www.twitch.tv/chickenpoooog\", \"76561198306464226\": \"https://www.twitch.tv/asmuund\", \"76561198842731461\": \"https://www.twitch.tv/lateest\", \"76561198318835649\": \"https://www.twitch.tv/raacc_\", \"76561198114515066\": \"https://www.twitch.tv/slamsyk\", \"76561198965353139\": \"https://twitch.tv/Stud3nt_4thlete\", \"4765259963499245\": \"https://twitch.tv/cfelton02\", \"2092178757563532\": \"https://www.twitch.tv/astrais_\", \"2715299435227069\": \"https://www.twitch.tv/penguiivr\", \"76561198086326146\": \"https://www.twitch.tv/thanighthawk\", \"76561198118927554\": \"https://www.twitch.tv/carax_\", \"76561198083631499\": \"https://www.twitch.tv/mynamepan\", \"76561198200744503\": \"https://www.twitch.tv/kryptecc\", \"76561198178298138\": \"https://twitch.tv/breadskatevr\", \"76561199068714821\": \"https://twitch.tv/se7en0_\", \"76561199077125210\": \"https://www.twitch.tv/imkirbie_\", \"76561198362923485\": \"https://www.twitch.tv/tseska_\", \"76561198260683373\": \"https://www.twitch.tv/pesukone22\", \"2218632398238707\": \"https://www.twitch.tv/brubrum1muri\", \"76561198148209170\": \"https://www.twitch.tv/generaldum\", \"76561198034726398\": \"https://www.twitch.tv/fookingnub\", \"76561198438681935\": \"https://www.twitch.tv/makkoo_\", \"76561198082797048\": \"https://www.twitch.tv/nolanimations\", \"3067073569973129\": \"https://www.twitch.tv/thejumpingsheep\", \"76561198095106486\": \"https://www.twitch.tv/muffnnt\", \"76561198301082541\": \"https://www.twitch.tv/miitchel\", \"76561198117236590\": \"https://twitch.tv/rfcaps\", \"76561198988695829\": \"https://twitch.tv/olbmaphlee1\", \"76561198249452550\": \"https://twitch.tv/gesca\", \"76561199174269459\": \"https://www.twitch.tv/oriixenn\", \"76561198121831459\": \"https://www.twitch.tv/vgn_deli\", \"76561198069899344\": \"https://www.twitch.tv/kaoplo\", \"76561198849389899\": \"https://twitch.tv/bonderlive\", \"76561198993934070\": \"https://www.twitch.tv/tanhis\", \"76561198288322100\": \"https://www.twitch.tv/olysgba\", \"76561198078455366\": \"https://www.twitch.tv/joe_nuts12\", \"76561198143307741\": \"https://www.twitch.tv/shrado\", \"76561198108275916\": \"https://www.twitch.tv/floatyoat\", \"76561199122659617\": \"https://www.twitch.tv/anodize_\", \"76561198803740722\": \"https://www.twitch.tv/hammyie\", \"76561198238346492\": \"https://www.twitch.tv/jackjack_33\", \"76561199048817315\": \"https://www.twitch.tv/jadenithink07/about\", \"76561198145728266\": \"https://www.twitch.tv/klondikevr\", \"76561198243088790\": \"https://www.twitch.tv/yukidesu__\", \"76561198308893404\": \"https://www.twitch.tv/makocho_/about\"}\n"
          ]
        }
      ],
      "source": [
        "teams = []\n",
        "player_twitch_links = {}\n",
        "\n",
        "for key, row in df.iloc[:, :].iterrows():\n",
        "  team = { 'members': [] }\n",
        "\n",
        "  team['id'] = str(uuid.uuid4())\n",
        "  team['name'] = row.iloc[1]\n",
        "  team['logoLink'] = row.iloc[2]\n",
        "\n",
        "  for index in MEMBER_INDEXES: \n",
        "    nickname = row.iloc[index + NICKNAME_OFFSET]\n",
        "\n",
        "    # Reserves\n",
        "    if str(nickname) == 'nan':\n",
        "      break\n",
        "\n",
        "    platform_id = re.search(SS_REGEX, row.iloc[index + SS_LINK_OFFSET]).group(1)\n",
        "    twitch_link = row.iloc[index + TWITCH_LINK_OFFSET]\n",
        "\n",
        "    team['members'].append({\n",
        "        'nickname': nickname,\n",
        "        'platformId': platform_id,\n",
        "        'twitchLink': twitch_link\n",
        "    })\n",
        "\n",
        "    player_twitch_links[platform_id] = twitch_link\n",
        "\n",
        "  teams.append(team)\n",
        "\n",
        "print(json.dumps(teams))\n",
        "print()\n",
        "print(json.dumps(player_twitch_links))"
      ]
    }
  ],
  "metadata": {
    "colab": {
      "provenance": []
    },
    "kernelspec": {
      "display_name": "Python 3",
      "language": "python",
      "name": "python3"
    },
    "language_info": {
      "name": "python",
      "version": "3.10.7 (tags/v3.10.7:6cc6b13, Sep  5 2022, 14:08:36) [MSC v.1933 64 bit (AMD64)]"
    },
    "vscode": {
      "interpreter": {
        "hash": "369f2c481f4da34e4445cda3fffd2e751bd1c4d706f27375911949ba6bb62e1c"
      }
    }
  },
  "nbformat": 4,
  "nbformat_minor": 0
}

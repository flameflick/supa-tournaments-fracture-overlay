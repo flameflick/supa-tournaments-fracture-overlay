{
  "cells": [
    {
      "cell_type": "code",
      "execution_count": 87,
      "metadata": {
        "colab": {
          "base_uri": "https://localhost:8080/"
        },
        "id": "RrA3EUVa-Q9M",
        "outputId": "a69910b5-abfc-4a30-abc5-01abf03a8038"
      },
      "outputs": [
        {
          "name": "stdout",
          "output_type": "stream",
          "text": [
            "Drive already mounted at /drive; to attempt to forcibly remount, call drive.mount(\"/drive\", force_remount=True).\n"
          ]
        }
      ],
      "source": [
        "import pandas as pd\n",
        "import re\n",
        "import uuid\n",
        "import json\n",
        "import requests\n",
        "\n",
        "from google.colab import drive\n",
        "drive.mount('/drive')"
      ]
    },
    {
      "cell_type": "code",
      "execution_count": 53,
      "metadata": {
        "id": "fsfAWHPhEkW8"
      },
      "outputs": [],
      "source": [
        "df = pd.read_csv('/SUPA Triple Rumble Season 1 Sign Ups - Team Responses.csv')"
      ]
    },
    {
      "cell_type": "code",
      "execution_count": 94,
      "metadata": {
        "colab": {
          "base_uri": "https://localhost:8080/"
        },
        "id": "jAfQCNgAEleK",
        "outputId": "97f2d4dd-fd44-447a-9262-5631cd612d7b"
      },
      "outputs": [
        {
          "name": "stdout",
          "output_type": "stream",
          "text": [
            "0          https://www.twitch.tv/lucazzyt\n",
            "1      https://www.twitch.tv/quiet_kid_15\n",
            "2          https://www.twitch.tv/datsurb1\n",
            "3             https://www.twitch.tv/ej_ca\n",
            "4           https://www.twitch.tv/bytesy_\n",
            "5               https://twitch.tv/noam15A\n",
            "6            https://www.twitch.tv/mr_bjo\n",
            "7       https://www.twitch.tv/blobby56789\n",
            "8           https://www.twitch.tv/asmuund\n",
            "9       https://twitch.tv/Stud3nt_4thlete\n",
            "10     https://www.twitch.tv/thanighthawk\n",
            "11         https://www.twitch.tv/kryptecc\n",
            "12          https://www.twitch.tv/tseska_\n",
            "13       https://www.twitch.tv/generaldum\n",
            "14    https://www.twitch.tv/nolanimations\n",
            "15               https://twitch.tv/rfcaps\n",
            "16         https://www.twitch.tv/oriixenn\n",
            "17           https://twitch.tv/bonderlive\n",
            "18           https://www.twitch.tv/shrado\n",
            "19          https://www.twitch.tv/hammyie\n",
            "20       https://www.twitch.tv/klondikevr\n",
            "Name: What is their Twitch link, dtype: object\n"
          ]
        }
      ],
      "source": [
        "print(df.head(1).iloc[:, 8])"
      ]
    },
    {
      "cell_type": "code",
      "execution_count": 74,
      "metadata": {
        "id": "JydJakX_FRDR"
      },
      "outputs": [],
      "source": [
        "MEMBER_INDEXES = [5, 12, 19, 27]\n",
        "\n",
        "NICKNAME_OFFSET = 0\n",
        "SS_LINK_OFFSET = 2\n",
        "TWITCH_LINK_OFFSET = 3"
      ]
    },
    {
      "cell_type": "code",
      "execution_count": 103,
      "metadata": {
        "colab": {
          "base_uri": "https://localhost:8080/"
        },
        "id": "Zwejmdj4_PXn",
        "outputId": "b739b7ad-7331-430c-ab91-12c4de355b48"
      },
      "outputs": [
        {
          "name": "stdout",
          "output_type": "stream",
          "text": [
            "76561198799070584\n"
          ]
        }
      ],
      "source": [
        "SS_REGEX = r'https://scoresaber\\.com/u/(\\d+)'\n",
        "\n",
        "print(re.search(SS_REGEX, 'https://scoresaber.com/u/76561198799070584').group(1))"
      ]
    },
    {
      "cell_type": "code",
      "execution_count": 105,
      "metadata": {
        "colab": {
          "base_uri": "https://localhost:8080/"
        },
        "id": "RYns_qVxNNhd",
        "outputId": "b5df39cb-5d4c-4453-e76a-6cf9fa14429a"
      },
      "outputs": [
        {
          "name": "stdout",
          "output_type": "stream",
          "text": [
            "X29Xuha\n"
          ]
        }
      ],
      "source": [
        "IMGUR_REGEX = r'imgur\\.com/(?:a/)?(\\w+)'\n",
        "\n",
        "print(re.search(IMGUR_REGEX, 'https://i.imgur.com/X29Xuha.png').group(1))"
      ]
    },
    {
      "cell_type": "code",
      "execution_count": 99,
      "metadata": {
        "colab": {
          "base_uri": "https://localhost:8080/"
        },
        "id": "5CubqB8FJs1i",
        "outputId": "ca09c69d-0577-4b27-898c-fdc3b71b35ab"
      },
      "outputs": [
        {
          "name": "stdout",
          "output_type": "stream",
          "text": [
            "datsurb1\n"
          ]
        }
      ],
      "source": [
        "TWITCH_REGEX = r'(?:https://)?(?:www.)?twitch\\.tv/(\\w+)/?'\n",
        "\n",
        "print(re.search(TWITCH_REGEX, 'twitch.tv/datsurb1/about').group(1))"
      ]
    },
    {
      "cell_type": "code",
      "execution_count": 106,
      "metadata": {
        "colab": {
          "base_uri": "https://localhost:8080/"
        },
        "id": "grKvFUaI8xaI",
        "outputId": "212600d3-18d6-4038-ffdb-d06d0e567f1e"
      },
      "outputs": [
        {
          "name": "stdout",
          "output_type": "stream",
          "text": [
            "[{\"members\": [{\"nickname\": \"lucazzyt\", \"platformId\": \"76561198799070584\", \"twitchUsername\": \"lucazzyt\", \"countryCode\": \"GB\"}, {\"nickname\": \"some1krille\", \"platformId\": \"76561199013335647\", \"twitchUsername\": \"some1krille\", \"countryCode\": \"DK\"}, {\"nickname\": \"Joah230\", \"platformId\": \"76561198284425720\", \"twitchUsername\": \"joah230\", \"countryCode\": \"DE\"}], \"id\": \"9fec2903-3eb1-4995-8427-d0c7770337ae\", \"name\": \"3 big baguettes\", \"logoLink\": \"https://i.imgur.com/8jcUJgb.png\"}, {\"members\": [{\"nickname\": \"quietkid\", \"platformId\": \"76561198425648946\", \"twitchUsername\": \"quiet_kid_15\", \"countryCode\": \"US\"}, {\"nickname\": \"Jmac\", \"platformId\": \"76561198199893013\", \"twitchUsername\": \"jmac875\", \"countryCode\": \"US\"}, {\"nickname\": \"Ayyserr\", \"platformId\": \"76561199071469065\", \"twitchUsername\": \"ayyserr24\", \"countryCode\": \"US\"}, {\"nickname\": \"BlAck_vOid\", \"platformId\": \"76561199237802861\", \"twitchUsername\": \"black_void1001\", \"countryCode\": \"US\"}], \"id\": \"aa2296c4-3a67-458c-bc77-89b1346b465a\", \"name\": \"Hash Slinging Slashers\", \"logoLink\": \"https://i.imgur.com/VbbYTUh.png\"}, {\"members\": [{\"nickname\": \"Datsurb\", \"platformId\": \"76561198088053842\", \"twitchUsername\": \"datsurb1\", \"countryCode\": \"NO\"}, {\"nickname\": \"flor\", \"platformId\": \"76561198072602937\", \"twitchUsername\": \"flor_salvas\", \"countryCode\": \"NO\"}, {\"nickname\": \"Sensei WU\", \"platformId\": \"76561198400393482\", \"twitchUsername\": \"tmbs_senseiwu\", \"countryCode\": \"DK\"}], \"id\": \"e70bfec6-bfb7-43fe-b4b3-8602c9966616\", \"name\": \"Chromosome Collectors\", \"logoLink\": \"https://i.imgur.com/sptvnEB.png\"}, {\"members\": [{\"nickname\": \"EJ\", \"platformId\": \"76561198321316302\", \"twitchUsername\": \"ej_ca\", \"countryCode\": \"CA\"}, {\"nickname\": \"Kel\", \"platformId\": \"76561198333403325\", \"twitchUsername\": \"kelbeatssaber\", \"countryCode\": \"CA\"}, {\"nickname\": \"OofsAndYippies\", \"platformId\": \"76561198128405856\", \"twitchUsername\": \"oofsandyippies\", \"countryCode\": \"CA\"}], \"id\": \"cc9a27ba-a141-4422-9bb4-382d6a63c628\", \"name\": \"Team Sploob\", \"logoLink\": \"https://i.imgur.com/65lcpV3.png\"}, {\"members\": [{\"nickname\": \"Bytesy\", \"platformId\": \"2169974796454690\", \"twitchUsername\": \"bytesy_\", \"countryCode\": \"US\"}, {\"nickname\": \"JustCallMeJack\", \"platformId\": \"76561197974131273\", \"twitchUsername\": \"justcallmejack\", \"countryCode\": \"US\"}, {\"nickname\": \"Fainted_soul\", \"platformId\": \"76561199017001958\", \"twitchUsername\": \"fainted_soul\", \"countryCode\": \"US\"}, {\"nickname\": \"WDG_IsraGRFK\", \"platformId\": \"76561198088965557\", \"twitchUsername\": \"wdg_isragrfk\", \"countryCode\": \"ES\"}], \"id\": \"a5e2aace-ad61-4d1a-af8d-b285f2409e02\", \"name\": \"joe biden's last 3 brain cells\", \"logoLink\": \"https://i.imgur.com/vd8XAfe.png\"}, {\"members\": [{\"nickname\": \"noam15A\", \"platformId\": \"76561198329760372\", \"twitchUsername\": \"noam15A\", \"countryCode\": \"IL\"}, {\"nickname\": \"AJ\", \"platformId\": \"76561198835431545\", \"twitchUsername\": \"ajmonkey21_\", \"countryCode\": \"GB\"}, {\"nickname\": \"Sona\", \"platformId\": \"76561199093169351\", \"twitchUsername\": \"v_sona\", \"countryCode\": \"PH\"}, {\"nickname\": \"Tomer\", \"platformId\": \"4604510306289186\", \"twitchUsername\": \"tomer_miaw\", \"countryCode\": \"IL\"}], \"id\": \"e4f7f180-99ef-42aa-a130-4988de4b1f7e\", \"name\": \"Sonaja15A\", \"logoLink\": \"https://i.imgur.com/sB7hy6e.png\"}, {\"members\": [{\"nickname\": \"Mr_bjo\", \"platformId\": \"76561198305748823\", \"twitchUsername\": \"mr_bjo\", \"countryCode\": \"NL\"}, {\"nickname\": \"Semdol\", \"platformId\": \"76561198334343711\", \"twitchUsername\": \"semdol1\", \"countryCode\": \"NL\"}, {\"nickname\": \"Tibytes\", \"platformId\": \"76561198802040781\", \"twitchUsername\": \"tibyteslive\", \"countryCode\": \"NL\"}], \"id\": \"72eab302-df00-4391-92bf-5d10cdc6dddf\", \"name\": \"Yaman 11.12.2022\", \"logoLink\": \"https://i.imgur.com/5ln7g5Y.png\"}, {\"members\": [{\"nickname\": \"charlie1epicdude\", \"platformId\": \"76561199080950125\", \"twitchUsername\": \"blobby56789\", \"countryCode\": \"FR\"}, {\"nickname\": \"Gamble\", \"platformId\": \"76561198830724581\", \"twitchUsername\": \"gamble9000\", \"countryCode\": \"US\"}, {\"nickname\": \"ChickenMWE1\", \"platformId\": \"76561199141443881\", \"twitchUsername\": \"chickenpoooog\", \"countryCode\": \"GB\"}], \"id\": \"83347a86-d568-4832-9d99-1e867637f001\", \"name\": \"Turduckens\", \"logoLink\": \"https://i.imgur.com/XRqWS2d.png\"}, {\"members\": [{\"nickname\": \"asmuund\", \"platformId\": \"76561198306464226\", \"twitchUsername\": \"asmuund\", \"countryCode\": \"NO\"}, {\"nickname\": \"Latest\", \"platformId\": \"76561198842731461\", \"twitchUsername\": \"lateest\", \"countryCode\": \"NO\"}, {\"nickname\": \"Rac\", \"platformId\": \"76561198318835649\", \"twitchUsername\": \"raacc_\", \"countryCode\": \"DK\"}, {\"nickname\": \"Slamsyk\", \"platformId\": \"76561198114515066\", \"twitchUsername\": \"slamsyk\", \"countryCode\": \"NO\"}], \"id\": \"b82b7513-ddbd-4a10-a104-156f055307b8\", \"name\": \"McDickheads\", \"logoLink\": \"https://i.imgur.com/wcUzpiZ.png\"}, {\"members\": [{\"nickname\": \"Stud3nt_4thlete\", \"platformId\": \"76561198965353139\", \"twitchUsername\": \"Stud3nt_4thlete\", \"countryCode\": \"CA\"}, {\"nickname\": \"cfelton02\", \"platformId\": \"4765259963499245\", \"twitchUsername\": \"cfelton02\", \"countryCode\": \"US\"}, {\"nickname\": \"Astrais\", \"platformId\": \"2092178757563532\", \"twitchUsername\": \"astrais_\", \"countryCode\": \"US\"}, {\"nickname\": \"Penguii\", \"platformId\": \"2715299435227069\", \"twitchUsername\": \"penguiivr\", \"countryCode\": \"CA\"}], \"id\": \"0f84d310-60f0-4de7-b98f-d90ee5b4bced\", \"name\": \"CVRE Podium + penguii\", \"logoLink\": \"https://i.imgur.com/CmBQ7Qe.png\"}, {\"members\": [{\"nickname\": \"NightHawk\", \"platformId\": \"76561198086326146\", \"twitchUsername\": \"thanighthawk\", \"countryCode\": \"DK\"}, {\"nickname\": \"CaraX\", \"platformId\": \"76561198118927554\", \"twitchUsername\": \"carax_\", \"countryCode\": \"DK\"}, {\"nickname\": \"Pan\", \"platformId\": \"76561198083631499\", \"twitchUsername\": \"mynamepan\", \"countryCode\": \"DK\"}], \"id\": \"6b54d23e-7ba2-4ccc-bbe9-de5a9bc96729\", \"name\": \"Brain Damage\", \"logoLink\": \"https://i.imgur.com/X29Xuha.png\"}, {\"members\": [{\"nickname\": \"Kryptec\", \"platformId\": \"76561198200744503\", \"twitchUsername\": \"kryptecc\", \"countryCode\": \"US\"}, {\"nickname\": \"BreadSkate\", \"platformId\": \"76561198178298138\", \"twitchUsername\": \"breadskatevr\", \"countryCode\": \"US\"}, {\"nickname\": \"Se7en\", \"platformId\": \"76561199068714821\", \"twitchUsername\": \"se7en0_\", \"countryCode\": \"US\"}, {\"nickname\": \"imkirbie\", \"platformId\": \"76561199077125210\", \"twitchUsername\": \"imkirbie_\", \"countryCode\": \"US\"}], \"id\": \"bbf5fef2-088d-4b36-ade9-09d2003ac2b4\", \"name\": \"Oculus Support \", \"logoLink\": \"https://i.imgur.com/PfQj4rV.png\"}, {\"members\": [{\"nickname\": \"Tseska\", \"platformId\": \"76561198362923485\", \"twitchUsername\": \"tseska_\", \"countryCode\": \"FI\"}, {\"nickname\": \"Pesukone22\", \"platformId\": \"76561198260683373\", \"twitchUsername\": \"pesukone22\", \"countryCode\": \"FI\"}, {\"nickname\": \"Brubrum1muri\", \"platformId\": \"2218632398238707\", \"twitchUsername\": \"brubrum1muri\", \"countryCode\": \"FI\"}], \"id\": \"b000ca0f-2dcb-4a55-a100-34215c138fda\", \"name\": \"Tseska's Household Appliances\", \"logoLink\": \"https://i.imgur.com/ifUnDaQ.png\"}, {\"members\": [{\"nickname\": \"General Dumbass\", \"platformId\": \"76561198148209170\", \"twitchUsername\": \"generaldum\", \"countryCode\": \"FI\"}, {\"nickname\": \"Nab\", \"platformId\": \"76561198034726398\", \"twitchUsername\": \"fookingnub\", \"countryCode\": \"FI\"}, {\"nickname\": \"Makko\", \"platformId\": \"76561198438681935\", \"twitchUsername\": \"makkoo_\", \"countryCode\": \"FI\"}], \"id\": \"3ed96407-4a54-4bf0-ad9d-3f7d07c68a4a\", \"name\": \"Banaanikioskin Pojat\", \"logoLink\": \"https://i.imgur.com/PflkGxz.png\"}, {\"members\": [{\"nickname\": \"Nolanimations\", \"platformId\": \"76561198082797048\", \"twitchUsername\": \"nolanimations\", \"countryCode\": \"NL\"}, {\"nickname\": \"Sheep\", \"platformId\": \"3067073569973129\", \"twitchUsername\": \"thejumpingsheep\", \"countryCode\": \"NL\"}, {\"nickname\": \"muffn\", \"platformId\": \"76561198095106486\", \"twitchUsername\": \"muffnnt\", \"countryCode\": \"DE\"}, {\"nickname\": \"miitchel\", \"platformId\": \"76561198301082541\", \"twitchUsername\": \"miitchel\", \"countryCode\": \"NL\"}], \"id\": \"be12e168-d991-4897-9dc6-83b68d654b76\", \"name\": \"maul naul jaul en muffn\", \"logoLink\": \"https://i.imgur.com/KCtbRlb.png\"}, {\"members\": [{\"nickname\": \"Ryan\", \"platformId\": \"76561198117236590\", \"twitchUsername\": \"rfcaps\", \"countryCode\": \"US\"}, {\"nickname\": \"Matty\", \"platformId\": \"76561198988695829\", \"twitchUsername\": \"olbmaphlee1\", \"countryCode\": \"GB\"}, {\"nickname\": \"Gesca\", \"platformId\": \"76561198249452550\", \"twitchUsername\": \"gesca\", \"countryCode\": \"GB\"}], \"id\": \"103e84a1-7e55-4800-967e-429575bd69b9\", \"name\": \"Dance Gayboys Dance\", \"logoLink\": \"https://i.imgur.com/mIjVZcG.png\"}, {\"members\": [{\"nickname\": \"Kyy/CloverLeaf\", \"platformId\": \"76561199174269459\", \"twitchUsername\": \"oriixenn\", \"countryCode\": \"US\"}, {\"nickname\": \"Deli\", \"platformId\": \"76561198121831459\", \"twitchUsername\": \"vgn_deli\", \"countryCode\": \"CA\"}, {\"nickname\": \"Kaoplo\", \"platformId\": \"76561198069899344\", \"twitchUsername\": \"kaoplo\", \"countryCode\": \"HU\"}], \"id\": \"e713fa8f-5e84-4e07-b04d-de5832303598\", \"name\": \"The Rusty Vanguards\", \"logoLink\": \"https://i.imgur.com/TQkJi5j.png\"}, {\"members\": [{\"nickname\": \"Bonder\", \"platformId\": \"76561198849389899\", \"twitchUsername\": \"bonderlive\", \"countryCode\": \"PR\"}, {\"nickname\": \"Tanhis\", \"platformId\": \"76561198993934070\", \"twitchUsername\": \"tanhis\", \"countryCode\": \"FI\"}, {\"nickname\": \"Olysgba\", \"platformId\": \"76561198288322100\", \"twitchUsername\": \"olysgba\", \"countryCode\": \"US\"}, {\"nickname\": \"Skyline\", \"platformId\": \"76561198078455366\", \"twitchUsername\": \"joe_nuts12\", \"countryCode\": \"US\"}], \"id\": \"9a1a6734-9e8e-43e2-b959-40f35c78f70b\", \"name\": \"sploutchers\", \"logoLink\": \"https://i.imgur.com/BfTviqP.png\"}, {\"members\": [{\"nickname\": \"shrado\", \"platformId\": \"76561198143307741\", \"twitchUsername\": \"shrado\", \"countryCode\": \"US\"}, {\"nickname\": \"Floatyoats\", \"platformId\": \"76561198108275916\", \"twitchUsername\": \"floatyoat\", \"countryCode\": \"GB\"}, {\"nickname\": \"Anodize\", \"platformId\": \"76561199122659617\", \"twitchUsername\": \"anodize_\", \"countryCode\": \"US\"}], \"id\": \"cea80c58-76f3-43f1-b125-765847198c96\", \"name\": \"Court documents reveal Young Thug was in the process of constructing a Dyson Sphere in a distant Galaxy\", \"logoLink\": \"https://i.imgur.com/b4pEEYm.png\"}, {\"members\": [{\"nickname\": \"Hammy\", \"platformId\": \"76561198803740722\", \"twitchUsername\": \"hammyie\", \"countryCode\": \"US\"}, {\"nickname\": \"JackJack33\", \"platformId\": \"76561198238346492\", \"twitchUsername\": \"jackjack_33\", \"countryCode\": \"US\"}, {\"nickname\": \"Jade!\", \"platformId\": \"76561199048817315\", \"twitchUsername\": \"jadenithink07\", \"countryCode\": \"US\"}], \"id\": \"eb876176-3496-4000-999f-3067e3bef8f1\", \"name\": \"Certified Index Gaming\", \"logoLink\": \"https://i.imgur.com/WPK6RGD.png\"}, {\"members\": [{\"nickname\": \"Klondike\", \"platformId\": \"76561198145728266\", \"twitchUsername\": \"klondikevr\", \"countryCode\": \"US\"}, {\"nickname\": \"Yuki\", \"platformId\": \"76561198243088790\", \"twitchUsername\": \"yukidesu__\", \"countryCode\": \"US\"}, {\"nickname\": \"Mako\", \"platformId\": \"76561198308893404\", \"twitchUsername\": \"makocho_\", \"countryCode\": \"US\"}], \"id\": \"f513edb2-89fe-4b98-a7a5-d7f6791a57a9\", \"name\": \"Yukodike\", \"logoLink\": \"https://i.imgur.com/jKbexoA.png\"}]\n",
            "\n",
            "{\"76561198799070584\": \"lucazzyt\", \"76561199013335647\": \"some1krille\", \"76561198284425720\": \"joah230\", \"76561198425648946\": \"quiet_kid_15\", \"76561198199893013\": \"jmac875\", \"76561199071469065\": \"ayyserr24\", \"76561199237802861\": \"black_void1001\", \"76561198088053842\": \"datsurb1\", \"76561198072602937\": \"flor_salvas\", \"76561198400393482\": \"tmbs_senseiwu\", \"76561198321316302\": \"ej_ca\", \"76561198333403325\": \"kelbeatssaber\", \"76561198128405856\": \"oofsandyippies\", \"2169974796454690\": \"bytesy_\", \"76561197974131273\": \"justcallmejack\", \"76561199017001958\": \"fainted_soul\", \"76561198088965557\": \"wdg_isragrfk\", \"76561198329760372\": \"noam15A\", \"76561198835431545\": \"ajmonkey21_\", \"76561199093169351\": \"v_sona\", \"4604510306289186\": \"tomer_miaw\", \"76561198305748823\": \"mr_bjo\", \"76561198334343711\": \"semdol1\", \"76561198802040781\": \"tibyteslive\", \"76561199080950125\": \"blobby56789\", \"76561198830724581\": \"gamble9000\", \"76561199141443881\": \"chickenpoooog\", \"76561198306464226\": \"asmuund\", \"76561198842731461\": \"lateest\", \"76561198318835649\": \"raacc_\", \"76561198114515066\": \"slamsyk\", \"76561198965353139\": \"Stud3nt_4thlete\", \"4765259963499245\": \"cfelton02\", \"2092178757563532\": \"astrais_\", \"2715299435227069\": \"penguiivr\", \"76561198086326146\": \"thanighthawk\", \"76561198118927554\": \"carax_\", \"76561198083631499\": \"mynamepan\", \"76561198200744503\": \"kryptecc\", \"76561198178298138\": \"breadskatevr\", \"76561199068714821\": \"se7en0_\", \"76561199077125210\": \"imkirbie_\", \"76561198362923485\": \"tseska_\", \"76561198260683373\": \"pesukone22\", \"2218632398238707\": \"brubrum1muri\", \"76561198148209170\": \"generaldum\", \"76561198034726398\": \"fookingnub\", \"76561198438681935\": \"makkoo_\", \"76561198082797048\": \"nolanimations\", \"3067073569973129\": \"thejumpingsheep\", \"76561198095106486\": \"muffnnt\", \"76561198301082541\": \"miitchel\", \"76561198117236590\": \"rfcaps\", \"76561198988695829\": \"olbmaphlee1\", \"76561198249452550\": \"gesca\", \"76561199174269459\": \"oriixenn\", \"76561198121831459\": \"vgn_deli\", \"76561198069899344\": \"kaoplo\", \"76561198849389899\": \"bonderlive\", \"76561198993934070\": \"tanhis\", \"76561198288322100\": \"olysgba\", \"76561198078455366\": \"joe_nuts12\", \"76561198143307741\": \"shrado\", \"76561198108275916\": \"floatyoat\", \"76561199122659617\": \"anodize_\", \"76561198803740722\": \"hammyie\", \"76561198238346492\": \"jackjack_33\", \"76561199048817315\": \"jadenithink07\", \"76561198145728266\": \"klondikevr\", \"76561198243088790\": \"yukidesu__\", \"76561198308893404\": \"makocho_\"}\n"
          ]
        }
      ],
      "source": [
        "teams = []\n",
        "player_twitch_links = {}\n",
        "\n",
        "for key, row in df.iloc[:, :].iterrows():\n",
        "  team = { 'members': [] }\n",
        "\n",
        "  team['id'] = str(uuid.uuid4())\n",
        "  team['name'] = row.iloc[1]\n",
        "\n",
        "  imgur_image_id = re.search(IMGUR_REGEX, row.iloc[2]).group(1)\n",
        "  team['logoLink'] = f'https://i.imgur.com/{imgur_image_id}.png'\n",
        "\n",
        "  for index in MEMBER_INDEXES: \n",
        "    nickname = row.iloc[index + NICKNAME_OFFSET]\n",
        "\n",
        "    # If no reserve present\n",
        "    if str(nickname) == 'nan':\n",
        "      break\n",
        "\n",
        "    platform_id = re.search(SS_REGEX, row.iloc[index + SS_LINK_OFFSET]).group(1)\n",
        "    twitch_username = re.search(TWITCH_REGEX, row.iloc[index + TWITCH_LINK_OFFSET]).group(1)\n",
        "  \n",
        "    player_data = requests.get(f'https://scoresaber.com/api/player/{platform_id}/basic')\n",
        "    response = json.loads(player_data.text)\n",
        "    country_code = response['country']\n",
        "\n",
        "    team['members'].append({\n",
        "        'nickname': nickname,\n",
        "        'platformId': platform_id,\n",
        "        'twitchUsername': twitch_username,\n",
        "        'countryCode': country_code\n",
        "    })\n",
        "\n",
        "    player_twitch_links[platform_id] = twitch_username\n",
        "\n",
        "  teams.append(team)\n",
        "\n",
        "print(json.dumps(teams))\n",
        "print()\n",
        "print(json.dumps(player_twitch_links))"
      ]
    }
  ],
  "metadata": {
    "colab": {
      "provenance": []
    },
    "kernelspec": {
      "display_name": "Python 3",
      "language": "python",
      "name": "python3"
    },
    "language_info": {
      "name": "python",
      "version": "3.10.7 (tags/v3.10.7:6cc6b13, Sep  5 2022, 14:08:36) [MSC v.1933 64 bit (AMD64)]"
    },
    "vscode": {
      "interpreter": {
        "hash": "369f2c481f4da34e4445cda3fffd2e751bd1c4d706f27375911949ba6bb62e1c"
      }
    }
  },
  "nbformat": 4,
  "nbformat_minor": 0
}
